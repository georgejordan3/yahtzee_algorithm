{
  "nbformat": 4,
  "nbformat_minor": 0,
  "metadata": {
    "colab": {
      "name": "Yahtzee_Algorithm.ipynb",
      "provenance": [],
      "collapsed_sections": [],
      "authorship_tag": "ABX9TyM9ktXXahKE3xaDgOXrt3A/",
      "include_colab_link": true
    },
    "kernelspec": {
      "name": "python3",
      "display_name": "Python 3"
    }
  },
  "cells": [
    {
      "cell_type": "markdown",
      "metadata": {
        "id": "view-in-github",
        "colab_type": "text"
      },
      "source": [
        "<a href=\"https://colab.research.google.com/github/georgejordan3/yahtzee_algorithm/blob/main/Yahtzee_Algorithm.ipynb\" target=\"_parent\"><img src=\"https://colab.research.google.com/assets/colab-badge.svg\" alt=\"Open In Colab\"/></a>"
      ]
    },
    {
      "cell_type": "markdown",
      "metadata": {
        "id": "2WUjShgWEEy0"
      },
      "source": [
        "# Creating a Yahtzee Probability and Decision Calculator"
      ]
    },
    {
      "cell_type": "markdown",
      "metadata": {
        "id": "CpBuWduMEKl_"
      },
      "source": [
        "George Jordan\n",
        "Last Updated: March 13th, 2021"
      ]
    },
    {
      "cell_type": "markdown",
      "metadata": {
        "id": "TESfJuvGEQo8"
      },
      "source": [
        "Playing Yahtzee with some friends, I started realizing small probability problems came with decisions as to what number of dice were to be rerolled. In this project, I will try to create a live-updating algorithm that predicts the probability of completing a points-scoring roll as well as expected value, to help create a program that can then be trialed to see if it performs better than an average game of Yahtzee played by a human."
      ]
    },
    {
      "cell_type": "markdown",
      "metadata": {
        "id": "QcYBsu9KHYIg"
      },
      "source": [
        "## Creating a Dice Game"
      ]
    },
    {
      "cell_type": "markdown",
      "metadata": {
        "id": "lAfcK0KNMrqK"
      },
      "source": [
        "### Random Dice Rolls"
      ]
    },
    {
      "cell_type": "markdown",
      "metadata": {
        "id": "-Oq7wcgWNRMB"
      },
      "source": [
        "A simple dice game is easy to create by using the random tool in python."
      ]
    },
    {
      "cell_type": "code",
      "metadata": {
        "id": "kCR1Uq0AEAow",
        "colab": {
          "base_uri": "https://localhost:8080/"
        },
        "outputId": "ce83b8de-2358-4539-950c-469bc79f33a7"
      },
      "source": [
        "import random\r\n",
        "min = 1\r\n",
        "max = 6\r\n",
        "print(random.randint(min, max))\r\n",
        "print(random.randint(min, max))\r\n",
        "print(random.randint(min, max))\r\n",
        "print(random.randint(min, max))\r\n",
        "print(random.randint(min, max))"
      ],
      "execution_count": null,
      "outputs": [
        {
          "output_type": "stream",
          "text": [
            "6\n",
            "1\n",
            "1\n",
            "1\n",
            "4\n"
          ],
          "name": "stdout"
        }
      ]
    },
    {
      "cell_type": "markdown",
      "metadata": {
        "id": "jxXnYfdU4zJ2"
      },
      "source": [
        "The next step for adding complexity and control of the dice is to assign each dice a unique ID number, so that we can observe what that dice does and select it for further rolls."
      ]
    },
    {
      "cell_type": "code",
      "metadata": {
        "id": "f7vXQ3v94zlN"
      },
      "source": [
        "import random\r\n",
        "min = 1\r\n",
        "max = 6\r\n",
        "\r\n",
        "d1 = random.randint(min, max)\r\n",
        "d2 = random.randint(min, max)\r\n",
        "d3 = random.randint(min, max)\r\n",
        "d4 = random.randint(min, max)\r\n",
        "d5 = random.randint(min, max)\r\n",
        "\r\n",
        "print(f\"First Die: {d1}\")\r\n",
        "print(f\"Second Die: {d2}\")\r\n",
        "print(f\"Third Die: {d3}\")\r\n",
        "print(f\"Fourth Die: {d4}\")\r\n",
        "print(f\"Fifth Die: {d5}\")"
      ],
      "execution_count": null,
      "outputs": []
    },
    {
      "cell_type": "markdown",
      "metadata": {
        "id": "WJssqMlKNav_"
      },
      "source": [
        "## Studying Probabilities"
      ]
    },
    {
      "cell_type": "markdown",
      "metadata": {
        "id": "E9DiLpdQNhbH"
      },
      "source": [
        "## Expected Values"
      ]
    },
    {
      "cell_type": "code",
      "metadata": {
        "id": "P2HdkGfBNLF4"
      },
      "source": [
        ""
      ],
      "execution_count": null,
      "outputs": []
    }
  ]
}