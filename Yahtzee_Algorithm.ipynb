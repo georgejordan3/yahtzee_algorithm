{
  "nbformat": 4,
  "nbformat_minor": 0,
  "metadata": {
    "colab": {
      "name": "Yahtzee_Algorithm.ipynb",
      "provenance": [],
      "collapsed_sections": [],
      "authorship_tag": "ABX9TyMMrERzBn4ZjOijsu0WKyvn",
      "include_colab_link": true
    },
    "kernelspec": {
      "name": "python3",
      "display_name": "Python 3"
    }
  },
  "cells": [
    {
      "cell_type": "markdown",
      "metadata": {
        "id": "view-in-github",
        "colab_type": "text"
      },
      "source": [
        "<a href=\"https://colab.research.google.com/github/georgejordan3/yahtzee_algorithm/blob/main/Yahtzee_Algorithm.ipynb\" target=\"_parent\"><img src=\"https://colab.research.google.com/assets/colab-badge.svg\" alt=\"Open In Colab\"/></a>"
      ]
    },
    {
      "cell_type": "markdown",
      "metadata": {
        "id": "2WUjShgWEEy0"
      },
      "source": [
        "# Creating a Yahtzee Probability and Decision Calculator"
      ]
    },
    {
      "cell_type": "markdown",
      "metadata": {
        "id": "CpBuWduMEKl_"
      },
      "source": [
        "George Jordan\n",
        "Last Updated: March 7th, 2021"
      ]
    },
    {
      "cell_type": "markdown",
      "metadata": {
        "id": "TESfJuvGEQo8"
      },
      "source": [
        "Playing Yahtzee with some friends, I started realizing small probability problems came with decisions as to what number of dice were to be rerolled. In this project, I will try to create a live-updating algorithm that predicts the probability of completing a points-scoring roll as well as expected value, to help create a program that can then be trialed to see if it performs better than an average game of Yahtzee played by a human."
      ]
    },
    {
      "cell_type": "code",
      "metadata": {
        "id": "kCR1Uq0AEAow"
      },
      "source": [
        ""
      ],
      "execution_count": null,
      "outputs": []
    }
  ]
}