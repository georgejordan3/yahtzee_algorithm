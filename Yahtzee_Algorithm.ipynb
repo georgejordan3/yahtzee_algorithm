{
  "nbformat": 4,
  "nbformat_minor": 0,
  "metadata": {
    "colab": {
      "name": "Yahtzee_Algorithm.ipynb",
      "provenance": [],
      "collapsed_sections": [],
      "authorship_tag": "ABX9TyN82zWlgC2gzhuo55o64rjX",
      "include_colab_link": true
    },
    "kernelspec": {
      "name": "python3",
      "display_name": "Python 3"
    }
  },
  "cells": [
    {
      "cell_type": "markdown",
      "metadata": {
        "id": "view-in-github",
        "colab_type": "text"
      },
      "source": [
        "<a href=\"https://colab.research.google.com/github/georgejordan3/yahtzee_algorithm/blob/main/Yahtzee_Algorithm.ipynb\" target=\"_parent\"><img src=\"https://colab.research.google.com/assets/colab-badge.svg\" alt=\"Open In Colab\"/></a>"
      ]
    },
    {
      "cell_type": "markdown",
      "metadata": {
        "id": "2WUjShgWEEy0"
      },
      "source": [
        "# Creating a Yahtzee Probability and Decision Calculator"
      ]
    },
    {
      "cell_type": "markdown",
      "metadata": {
        "id": "CpBuWduMEKl_"
      },
      "source": [
        "George Jordan\n",
        "Last Updated: March 7th, 2021"
      ]
    },
    {
      "cell_type": "markdown",
      "metadata": {
        "id": "TESfJuvGEQo8"
      },
      "source": [
        "Playing Yahtzee with some friends, I started realizing small probability problems came with decisions as to what number of dice were to be rerolled. In this project, I will try to create a live-updating algorithm that predicts the probability of completing a points-scoring roll as well as expected value, to help create a program that can then be trialed to see if it performs better than an average game of Yahtzee played by a human."
      ]
    },
    {
      "cell_type": "markdown",
      "metadata": {
        "id": "QcYBsu9KHYIg"
      },
      "source": [
        "## Creating a Dice Game"
      ]
    },
    {
      "cell_type": "markdown",
      "metadata": {
        "id": "lAfcK0KNMrqK"
      },
      "source": [
        "### Random Dice Rolls"
      ]
    },
    {
      "cell_type": "markdown",
      "metadata": {
        "id": "-Oq7wcgWNRMB"
      },
      "source": [
        "A simple dice game is easy to create by using the random tool in python."
      ]
    },
    {
      "cell_type": "code",
      "metadata": {
        "id": "kCR1Uq0AEAow",
        "colab": {
          "base_uri": "https://localhost:8080/"
        },
        "outputId": "ce83b8de-2358-4539-950c-469bc79f33a7"
      },
      "source": [
        "import random\r\n",
        "min = 1\r\n",
        "max = 6\r\n",
        "print(random.randint(min, max))\r\n",
        "print(random.randint(min, max))\r\n",
        "print(random.randint(min, max))\r\n",
        "print(random.randint(min, max))\r\n",
        "print(random.randint(min, max))"
      ],
      "execution_count": 4,
      "outputs": [
        {
          "output_type": "stream",
          "text": [
            "6\n",
            "1\n",
            "1\n",
            "1\n",
            "4\n"
          ],
          "name": "stdout"
        }
      ]
    },
    {
      "cell_type": "markdown",
      "metadata": {
        "id": "WJssqMlKNav_"
      },
      "source": [
        "## Studying Probabilities"
      ]
    },
    {
      "cell_type": "markdown",
      "metadata": {
        "id": "E9DiLpdQNhbH"
      },
      "source": [
        "## Expected Values"
      ]
    },
    {
      "cell_type": "code",
      "metadata": {
        "id": "P2HdkGfBNLF4"
      },
      "source": [
        ""
      ],
      "execution_count": null,
      "outputs": []
    }
  ]
}